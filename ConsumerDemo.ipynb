{
 "metadata": {
  "kernelspec": {
   "display_name": "Streamlit Notebook",
   "name": "streamlit"
  }
 },
 "nbformat_minor": 5,
 "nbformat": 4,
 "cells": [
  {
   "cell_type": "markdown",
   "id": "be567e1e-edc5-495e-8d4a-72a772294de9",
   "metadata": {
    "name": "cell21",
    "collapsed": false,
    "resultHeight": 211
   },
   "source": "# This notebook will demonstrate the spectrum of Snowflake privacy and data sharing capabilities\n\n## Consumer Account"
  },
  {
   "cell_type": "code",
   "id": "a3c98a89-6df9-4794-a3ea-b6a1ca1a4e0f",
   "metadata": {
    "language": "sql",
    "name": "cell20",
    "collapsed": false,
    "resultHeight": 0
   },
   "outputs": [],
   "source": "-- Set these to the account locators of your Provider and Consumer accounts respectively\nset PROVIDERACCOUNT= 'XXX12345';\nset CONSUMERACCOUNT= 'YYY98765';\nset PROVIDERSHARE=$PROVIDERACCOUNT||'.customer_share';",
   "execution_count": null
  },
  {
   "cell_type": "markdown",
   "id": "75a582dc-54fa-473b-9d01-8c7babf0ef06",
   "metadata": {
    "name": "cell22",
    "collapsed": false,
    "resultHeight": 121
   },
   "source": "## Setup environment and seed test data\n## Provide must share customer table before running this step"
  },
  {
   "cell_type": "code",
   "id": "6d0eae4b-c57c-4696-ac9a-6c02d334bc29",
   "metadata": {
    "language": "sql",
    "name": "cell7",
    "resultHeight": 0
   },
   "outputs": [],
   "source": "use role ACCOUNTADMIN; \ncreate or replace database customerdb_local; \ncreate or replace schema customerdb_local.globalsales;\n\nuse schema customerdb_local.globalsales;",
   "execution_count": null
  },
  {
   "cell_type": "markdown",
   "id": "5022ab96-02c0-4594-907a-1fe885f89bc5",
   "metadata": {
    "name": "cell19",
    "collapsed": false,
    "resultHeight": 392
   },
   "source": "### Load test data from Snowsight UI\n\nAfter downloading the *.csv from GitHub, execute the following steps: \n\n1. Under the **Data** tab in the left menu, Click **Databases**\n2. Click database **CUSTOMERDB_LOCAL** and schema **GLOBALSALES**\n3. In the upper right, click the **Create** dropdown and select **Table** then **From File**\n4. Drag your *.CSV (customer_consumer.csv) to the center of the screen and drop. You can alternatively click **Browse** and locate your file\n5. On the **Load Data into Table** screen, go to the bottom. Keep \"Create New Table\" selected. Enter \"customer\" under the **Name** field and click **Next**\n6. This will take you to a panel that lists all columnms. Leave all default values as-is and click **Load**. \n\nYou should see a message that 399 rows were successfully loaded. \n"
  },
  {
   "cell_type": "markdown",
   "id": "74891ce9-5300-42c2-9953-a45500ef5579",
   "metadata": {
    "name": "cell18",
    "collapsed": false,
    "resultHeight": 60
   },
   "source": "## Demo Starts Here"
  },
  {
   "cell_type": "code",
   "id": "3775908f-ca36-4846-8f38-5adca39217f2",
   "metadata": {
    "language": "sql",
    "name": "cell1",
    "collapsed": false,
    "resultHeight": 0
   },
   "source": "-- set context\nuse role accountadmin;\nuse schema customerdb_local.globalsales;",
   "execution_count": null,
   "outputs": []
  },
  {
   "cell_type": "code",
   "id": "bab0aa41-8d24-4674-b141-d740e1b3b187",
   "metadata": {
    "language": "sql",
    "name": "cell17",
    "resultHeight": 439,
    "collapsed": false
   },
   "outputs": [],
   "source": "-- Look at my local data\nselect * from customerdb_local.globalsales.customer;",
   "execution_count": null
  },
  {
   "cell_type": "markdown",
   "id": "802f5cc3-e4a5-404c-9f86-2ef769163578",
   "metadata": {
    "name": "cell24",
    "collapsed": false,
    "resultHeight": 121
   },
   "source": "## Lets create a database from what the Provider shared\n## This step can also be performed in the UI"
  },
  {
   "cell_type": "code",
   "id": "7430e9e0-816d-44c2-8b39-ad2b13cb2b2c",
   "metadata": {
    "language": "sql",
    "name": "cell23",
    "collapsed": false,
    "resultHeight": 112
   },
   "outputs": [],
   "source": "create or replace database customerdb_provider\nfrom share identifier($PROVIDERSHARE);",
   "execution_count": null
  },
  {
   "cell_type": "markdown",
   "id": "829451c4-ff64-4c42-b221-3a899ebeb372",
   "metadata": {
    "name": "cell26",
    "collapsed": false,
    "resultHeight": 89
   },
   "source": "## Lets do a select from the customer table that was shared with us"
  },
  {
   "cell_type": "code",
   "id": "a7c3b281-9f45-4e68-8ca8-73e5ef4c326e",
   "metadata": {
    "language": "sql",
    "name": "cell8",
    "collapsed": false,
    "resultHeight": 427
   },
   "outputs": [],
   "source": "select * \nfrom customerdb_provider.globalsales.customer \nlimit 10;",
   "execution_count": null
  },
  {
   "cell_type": "markdown",
   "id": "6160ace2-3258-41d9-80f2-44762a0fe36a",
   "metadata": {
    "name": "cell27",
    "collapsed": false,
    "resultHeight": 68
   },
   "source": "### Check that we can see the View that just got added to the share by the provider"
  },
  {
   "cell_type": "code",
   "id": "4c885343-1a78-48c8-b28f-e9640df279ed",
   "metadata": {
    "language": "sql",
    "name": "cell4",
    "collapsed": false,
    "resultHeight": 135
   },
   "outputs": [],
   "source": "select * \nfrom customerdb_provider.globalsales.customerV;",
   "execution_count": null
  },
  {
   "cell_type": "markdown",
   "id": "b67641b3-7ac1-421d-b3a8-38a0124af071",
   "metadata": {
    "name": "cell2",
    "collapsed": false,
    "resultHeight": 46
   },
   "source": "### Now back to the provider to try some privacy policies"
  },
  {
   "cell_type": "code",
   "id": "b4d52be2-643c-41b7-8b13-76b749389463",
   "metadata": {
    "language": "sql",
    "name": "cell3",
    "collapsed": false,
    "resultHeight": 439
   },
   "outputs": [],
   "source": "select * \nfrom customerdb_provider.globalsales.customer;",
   "execution_count": null
  },
  {
   "cell_type": "markdown",
   "id": "f04169f9-f5d8-420c-be26-89fd1dfc1e35",
   "metadata": {
    "name": "cell9",
    "resultHeight": 121
   },
   "source": "## That failed on a projection policy\n\n## Lets try avoiding those columns"
  },
  {
   "cell_type": "code",
   "id": "efa34a10-4ce1-4c16-a4f5-691d5541c6d8",
   "metadata": {
    "language": "sql",
    "name": "cell10",
    "collapsed": false,
    "resultHeight": 111
   },
   "outputs": [],
   "source": "select c_custkey, c_gender, c_age, c_acctbal \nfrom customerdb_provider.globalsales.customer;",
   "execution_count": null
  },
  {
   "cell_type": "markdown",
   "id": "455aaa96-a06f-4d5e-806b-14cc06eb8086",
   "metadata": {
    "name": "cell11",
    "collapsed": false,
    "resultHeight": 161
   },
   "source": "### That failed on the aggregation policy\n### so lets try an aggregate query\n\n### This query works but the results are very granular - all groups have < 5 rows so they get filtered from the results"
  },
  {
   "cell_type": "code",
   "id": "b4789b62-2119-4e5d-8a9f-b63a9098da7b",
   "metadata": {
    "language": "sql",
    "name": "cell12",
    "collapsed": false,
    "resultHeight": 112
   },
   "outputs": [],
   "source": "select c_custkey, c_gender, c_age, sum(c_acctbal)\nfrom customerdb_provider.globalsales.customer\ngroup by 1,2,3\norder by 1,2,3;",
   "execution_count": null
  },
  {
   "cell_type": "markdown",
   "id": "c8a9a3d2-c3be-4e86-a99a-1f5524594a0b",
   "metadata": {
    "name": "cell13",
    "collapsed": false,
    "resultHeight": 89
   },
   "source": "## Must be fewer than 5 rows in each group. Lets eliminate the custkey"
  },
  {
   "cell_type": "code",
   "id": "731e5413-5e83-45c3-a5f7-140b8b0761e8",
   "metadata": {
    "language": "sql",
    "name": "cell14",
    "collapsed": false,
    "resultHeight": 439
   },
   "outputs": [],
   "source": "select c_gender, c_age, sum(c_acctbal), count(*)\nfrom customerdb_provider.globalsales.customer\ngroup by 1,2\norder by 4;",
   "execution_count": null
  },
  {
   "cell_type": "markdown",
   "id": "44162b57-9f54-48ea-bfc2-c8cf10bedc7e",
   "metadata": {
    "name": "cell15",
    "collapsed": false,
    "resultHeight": 164
   },
   "source": "## Now lets join it to our own (local) data set to get the balance on my customers using the demographics from the provider data\n\n### I can use c_email because its not in the projection!!!"
  },
  {
   "cell_type": "code",
   "id": "b0090cfd-461f-42b9-9584-03cb5799cad0",
   "metadata": {
    "language": "sql",
    "name": "JoinExample",
    "collapsed": false,
    "resultHeight": 112
   },
   "outputs": [],
   "source": "select a.c_age, a.c_gender, count(*), sum(b.c_acctbal)\nfrom \n    customerdb_provider.globalsales.customer a \n    inner join\n    customerdb_local.globalsales.customer b\n    on a.c_email = b.c_email\ngroup by 1,2\norder by 1,2; ",
   "execution_count": null
  },
  {
   "cell_type": "markdown",
   "id": "bee585dd-aa0e-4334-af18-d99917797b4c",
   "metadata": {
    "name": "cell16",
    "collapsed": false,
    "resultHeight": 89
   },
   "source": "## Get the total balances of my customer who are NOT also customers of the provider"
  },
  {
   "cell_type": "code",
   "id": "c9c6d60e-d247-4c98-b9e1-d8ba0867c0e2",
   "metadata": {
    "language": "sql",
    "name": "cell6",
    "collapsed": false,
    "resultHeight": 112
   },
   "outputs": [],
   "source": "select sum(c_acctbal) \nfrom customerdb_local.globalsales.customer\nwhere c_email not in \n(select c_email \n from customerdb_provider.globalsales.customer);",
   "execution_count": null
  },
  {
   "cell_type": "markdown",
   "id": "3c4f828e-b02e-4986-baf6-54cb735a1976",
   "metadata": {
    "name": "cell25",
    "collapsed": false,
    "resultHeight": 46
   },
   "source": "### Validate the Differential Privacy Policy"
  },
  {
   "cell_type": "code",
   "id": "ae43b47a-697c-4de4-918f-f9b9ddfd040d",
   "metadata": {
    "language": "sql",
    "name": "cell5",
    "collapsed": false,
    "resultHeight": 112
   },
   "outputs": [],
   "source": "SELECT COUNT(DISTINCT c_custkey) AS c,\n       DP_INTERVAL_LOW(c) AS low,\n       DP_INTERVAL_HIGH(c) AS high,\nFROM customerdb_provider.globalsales.customer\nWHERE c_gender='F'\n  AND c_age between 30 and 50;",
   "execution_count": null
  }
 ]
}