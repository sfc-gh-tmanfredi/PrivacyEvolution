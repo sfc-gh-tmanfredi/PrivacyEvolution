{
 "metadata": {
  "kernelspec": {
   "display_name": "Streamlit Notebook",
   "name": "streamlit"
  }
 },
 "nbformat_minor": 5,
 "nbformat": 4,
 "cells": [
  {
   "cell_type": "markdown",
   "id": "2eaf91e5-bb6d-4435-aa1f-054039725b43",
   "metadata": {
    "name": "cell82",
    "collapsed": false,
    "resultHeight": 211
   },
   "source": "# This notebook will demonstrate the spectrum of Snowflake privacy and data sharing capabilities\n## Provider Account"
  },
  {
   "cell_type": "markdown",
   "id": "eca883d2-e8a7-428a-8568-70bee67128d1",
   "metadata": {
    "name": "cell1",
    "collapsed": false,
    "resultHeight": 46
   },
   "source": "### Demo Setup"
  },
  {
   "cell_type": "code",
   "id": "8d50cbf4-0c8d-4950-86cb-114990437ac9",
   "metadata": {
    "language": "sql",
    "name": "cell2",
    "resultHeight": 0
   },
   "source": "use role ACCOUNTADMIN; \n\ncreate or replace database PRIVACYEVOLUTION;\ncreate or replace schema GLOBALSALES;\n\ncreate or replace role FIN_ANALYST_RL; \n\ngrant usage on database PRIVACYEVOLUTION to role FIN_ANALYST_RL;\ngrant usage on schema PRIVACYEVOLUTION.GLOBALSALES to role FIN_ANALYST_RL;",
   "execution_count": null,
   "outputs": []
  },
  {
   "cell_type": "markdown",
   "id": "ac80c93c-8e03-482d-b19e-655565fbac1d",
   "metadata": {
    "name": "cell4",
    "collapsed": false,
    "resultHeight": 392
   },
   "source": "### Load test data from Snowsight UI\n\nAfter downloading the *.csv from GitHub, execute the following steps: \n\n1. Under the **Data** tab in the left menu, Click **Databases**\n2. Click database **PRIVACYEVOLUTION** and schema **GLOBALSALES**\n3. In the upper right, click the **Create** dropdown and select **Table** then **From File**\n4. Drag your *.CSV (customer_provider.csv) to the center of the screen and drop. You can alternatively click **Browse** and locate your file\n5. On the **Load Data into Table** screen, go to the bottom. Keep \"Create New Table\" selected. Enter \"customer\" under the **Name** field and click **Next**\n6. This will take you to a panel that lists all columnms. Leave all default values as-is and click **Load**. \n\nYou should see a message that 500 rows were successfully loaded. "
  },
  {
   "cell_type": "markdown",
   "id": "bc3372d3-8b00-4b04-ab7e-11eab3187cbd",
   "metadata": {
    "name": "cell44",
    "collapsed": false,
    "resultHeight": 68
   },
   "source": "### Run this cell to reset any existing privacy policies used in previous executions of this demo"
  },
  {
   "cell_type": "code",
   "id": "261a1499-6739-43b9-8e73-6f8d4184148f",
   "metadata": {
    "language": "sql",
    "name": "ResetAllPolicies",
    "collapsed": false,
    "resultHeight": 0
   },
   "outputs": [],
   "source": "use role ACCOUNTADMIN;\n\nalter table customer \nmodify \n  column c_fname unset masking policy, column c_zip unset masking policy ,\n  column c_phone unset masking policy ,\n  column c_email unset masking policy ,\n  column c_gender unset masking policy ,\n  column c_age unset masking policy ;\n\nalter table customer \nmodify \n    column c_email unset tag PII,\n    column c_phone unset tag PII;\n\nALTER TABLE customer modify column c_email unset projection policy ;\nALTER TABLE customer modify column c_phone unset projection policy ;\nALTER TABLE customer modify column c_fname unset projection policy ;\nALTER TABLE customer modify column c_lname unset projection policy ;\n\nalter table customer unset aggregation policy ;\n\nalter table customer DROP ROW ACCESS POLICY Customer_OH_Policy;\n\nalter table customer drop privacy policy cust_dp_policy ;\n\nalter tag pii unset masking policy simple_mask_string;",
   "execution_count": null
  },
  {
   "cell_type": "markdown",
   "id": "3bdc9f17-1839-4510-b2be-116bb09b4014",
   "metadata": {
    "name": "cell6",
    "collapsed": false,
    "resultHeight": 74
   },
   "source": "# Demo Starts HERE"
  },
  {
   "cell_type": "markdown",
   "id": "cfa2cbb8-afe2-4a30-9c61-c1ccad51aeac",
   "metadata": {
    "name": "cell66",
    "collapsed": false,
    "resultHeight": 451
   },
   "source": "## This notebook will demonstrate the spectrum of Snowflake capabilities to enforce privacy policies in a collaborative, data sharing environment. The following features will be highlighted: \n- Secure Sharing\n- Secure Views\n- Dynamic/Conditional Data Masking\n- Object Tagging\n- Tag Propagation\n- Row Access Policies\n- Projection Policies\n- Aggregation Policies\n- Differential Privacy\n- Data Clean Rooms (separate demo)"
  },
  {
   "cell_type": "markdown",
   "id": "e2cb9121-a483-4c21-b2d4-449d89256918",
   "metadata": {
    "name": "cell69",
    "collapsed": false,
    "resultHeight": 46
   },
   "source": "### Lets set our context and session variables"
  },
  {
   "cell_type": "code",
   "id": "7ef608f4-15b5-4b73-971b-484713ca6c8b",
   "metadata": {
    "language": "sql",
    "name": "cell9",
    "collapsed": false,
    "resultHeight": 0
   },
   "outputs": [],
   "source": "use role ACCOUNTADMIN; \nuse schema PRIVACYEVOLUTION.GLOBALSALES;\n\n-- Modify these variables with your respective \n-- Snowflake account locators\nset PROVIDERACCOUNT= 'XXX12345';\nset CONSUMERACCOUNT= 'YYY98765';",
   "execution_count": null
  },
  {
   "cell_type": "markdown",
   "id": "4f59177c-9718-4d88-aa42-002d84c1d373",
   "metadata": {
    "name": "cell8",
    "collapsed": false,
    "resultHeight": 46
   },
   "source": "### Lets look at some of my data..."
  },
  {
   "cell_type": "code",
   "id": "da4ac4cc-cf22-4429-b17e-1cbf469f7902",
   "metadata": {
    "language": "sql",
    "name": "cell7",
    "collapsed": false,
    "resultHeight": 0
   },
   "outputs": [],
   "source": "select * from customer limit 10;",
   "execution_count": null
  },
  {
   "cell_type": "markdown",
   "id": "76f3c8ac-6a2e-4703-9512-37e31a22a753",
   "metadata": {
    "name": "cell5",
    "collapsed": false,
    "resultHeight": 46
   },
   "source": "### Now lets share this customer table to a consumer account"
  },
  {
   "cell_type": "code",
   "id": "c695373e-ac74-4b62-a1f1-08206cbd5c81",
   "metadata": {
    "language": "sql",
    "name": "cell3",
    "collapsed": false,
    "resultHeight": 0
   },
   "source": "grant select on customer to role FIN_ANALYST_RL;\n\ncreate or replace share customer_share;\ngrant usage on database PRIVACYEVOLUTION to share customer_share;\ngrant usage on schema GLOBALSALES to share customer_share;\ngrant select on table customer to share customer_share;\n\nalter share customer_share add accounts = identifier($CONSUMERACCOUNT);\n",
   "execution_count": null,
   "outputs": []
  },
  {
   "cell_type": "markdown",
   "id": "3348da52-4882-47d6-b6f8-67aa44522d59",
   "metadata": {
    "name": "cell11",
    "collapsed": false,
    "resultHeight": 46
   },
   "source": "### Switch to the consumer account to see how easy it is to access. "
  },
  {
   "cell_type": "markdown",
   "id": "9bccc0a2-5d9d-4009-a036-c1c52189bed2",
   "metadata": {
    "name": "cell10",
    "collapsed": false,
    "resultHeight": 113
   },
   "source": "### I just shared the entire customer table which is now completely visible to the consumer.  Maybe this isn't a great idea if it contains sensitive data.  Here's how we can use a VIEW to begin to restrict what the consumer can see. "
  },
  {
   "cell_type": "code",
   "id": "e8b43cb5-d09f-4872-a58b-046a879a8768",
   "metadata": {
    "language": "sql",
    "name": "cell12",
    "collapsed": false,
    "resultHeight": 0
   },
   "outputs": [],
   "source": "create or replace SECURE view customerV as \nselect encrypt(c_email,'abc') as c_email_crypt, c_state, c_zip, c_gender, c_age, c_mktsegment\nfrom customer; \n\ngrant select on customerV to share customer_share;\n\nselect * from customerV;",
   "execution_count": null
  },
  {
   "cell_type": "markdown",
   "id": "9cf8e49b-f97f-4007-9d1d-38e1d52dc54c",
   "metadata": {
    "name": "cell14",
    "collapsed": false,
    "resultHeight": 46
   },
   "source": "### Or I can filter out rows like this..."
  },
  {
   "cell_type": "code",
   "id": "a2003e55-6f32-4caa-a4b4-5f6589f5216e",
   "metadata": {
    "language": "sql",
    "name": "cell13",
    "collapsed": false,
    "resultHeight": 0
   },
   "outputs": [],
   "source": "create or replace SECURE view customerV as \nselect encrypt(c_email,'abc') as c_email_crypt, c_state, c_zip, c_gender, c_age, c_mktsegment\nfrom customer\nwhere c_state = 'OH'; \n\ngrant select on customerV to share customer_share;\n\nselect * from customerV limit 10;",
   "execution_count": null
  },
  {
   "cell_type": "markdown",
   "id": "0618d832-1404-4a65-a608-09fc150b5410",
   "metadata": {
    "name": "cell15",
    "resultHeight": 46
   },
   "source": "### Note that the access for the consumer is immediately revokable"
  },
  {
   "cell_type": "code",
   "id": "cae5115d-c226-4116-bc4e-ed0f80d248b6",
   "metadata": {
    "language": "sql",
    "name": "cell16",
    "collapsed": false,
    "resultHeight": 0
   },
   "outputs": [],
   "source": "revoke select on customerV from share customer_share;",
   "execution_count": null
  },
  {
   "cell_type": "code",
   "id": "d5650f03-a0f7-4e76-a520-21e828d5bfe9",
   "metadata": {
    "language": "sql",
    "name": "cell19",
    "collapsed": false,
    "resultHeight": 0
   },
   "outputs": [],
   "source": "grant select on customerV to share customer_share;",
   "execution_count": null
  },
  {
   "cell_type": "markdown",
   "id": "7e8eb77b-2935-4595-8ea8-c998a53ae6f1",
   "metadata": {
    "name": "cell17",
    "collapsed": false,
    "resultHeight": 115
   },
   "source": "### That works great!  But in a large, complex environment with 1000s of tables and tens of 1000s of columns, thats ALOT of views to manage.  We need a better option\n\n### Introducing DYNAMIC DATA MASKING"
  },
  {
   "cell_type": "code",
   "id": "385783be-3836-46e5-8637-a9f9ccca1d8f",
   "metadata": {
    "language": "sql",
    "name": "cell18",
    "collapsed": false,
    "resultHeight": 0
   },
   "outputs": [],
   "source": "-- Define Masking Policies\ncreate or replace masking policy simple_mask_string as\n  (val string) returns string ->\n  case\n    when current_role() in ('ACCOUNTADMIN') then val\n      else '*** masked *****'\n    end;\n    \ncreate or replace masking policy simple_mask_int as\n  (val integer) returns integer ->\n  case\n    when current_role() in ('ACCOUNTADMIN') then val\n      else -999\n    end;\n    \n-- Apply Masking Policies\nalter table customer modify\n  column c_fname set masking policy simple_mask_string,\n  column c_zip set masking policy simple_mask_int,\n  column c_phone set masking policy simple_mask_string,\n  column c_email set masking policy simple_mask_string,\n  column c_gender set masking policy simple_mask_string,\n  column c_age set masking policy simple_mask_int;",
   "execution_count": null
  },
  {
   "cell_type": "markdown",
   "id": "bda2ac07-6931-4b82-9579-15cdeaea6dcc",
   "metadata": {
    "name": "cell70",
    "collapsed": false,
    "resultHeight": 46
   },
   "source": "### Policy has no effect when using role ACCOUNTADMIN"
  },
  {
   "cell_type": "code",
   "id": "2405b487-e901-4337-85e5-f5e877bffc3b",
   "metadata": {
    "language": "sql",
    "name": "cell20",
    "resultHeight": 0,
    "collapsed": false
   },
   "outputs": [],
   "source": "use role ACCOUNTADMIN;\nselect * from customer limit 10;",
   "execution_count": null
  },
  {
   "cell_type": "markdown",
   "id": "8c596d38-e346-4612-88df-5c959f7f86bb",
   "metadata": {
    "name": "cell71",
    "collapsed": false,
    "resultHeight": 46
   },
   "source": "### But if I switch to another role, the policy is enforced"
  },
  {
   "cell_type": "code",
   "id": "d7fd7efa-bcc3-401c-879c-1b229c35a352",
   "metadata": {
    "language": "sql",
    "name": "cell21",
    "collapsed": false,
    "resultHeight": 0
   },
   "outputs": [],
   "source": "use role FIN_ANALYST_RL;\nselect * from customer limit 10;",
   "execution_count": null
  },
  {
   "cell_type": "markdown",
   "id": "fb1daa78-d788-44fc-8afa-ea7e285341a7",
   "metadata": {
    "name": "cell22",
    "collapsed": false,
    "resultHeight": 46
   },
   "source": "### Check the consumer account to see if the masking policies are in effect"
  },
  {
   "cell_type": "code",
   "id": "2c4af042-5e77-41e0-befb-0cc4fc6a67e1",
   "metadata": {
    "language": "sql",
    "name": "cell23",
    "resultHeight": 0,
    "collapsed": false
   },
   "outputs": [],
   "source": "-- Unset those policies\nuse role ACCOUNTADMIN;\nalter table customer modify\n  column c_fname unset masking policy ,\n  column c_zip unset masking policy ,\n  column c_phone unset masking policy ,\n  column c_email unset masking policy ,\n  column c_gender unset masking policy ,\n  column c_age unset masking policy ;",
   "execution_count": null
  },
  {
   "cell_type": "markdown",
   "id": "f2b0a236-2c21-4406-b1ea-3251722bc6c4",
   "metadata": {
    "name": "cell24",
    "collapsed": false,
    "resultHeight": 68
   },
   "source": "### Maybe we want the mask to be dependent on some other column in our table that indicates whether the individual has \"opted-in\" to making their contact info public. In this case we can use CONDITIONAL Masking. This is a simple variation to Dynamic Data Masking"
  },
  {
   "cell_type": "code",
   "id": "b69f7d0c-4e65-4711-b085-fa85e4359d80",
   "metadata": {
    "language": "sql",
    "name": "cell25",
    "resultHeight": 0,
    "collapsed": false
   },
   "outputs": [],
   "source": "create or replace masking policy email_visibility_policy as\n(email varchar, visibility string) returns varchar ->\n  case\n    when current_role() in ('ACCOUNTADMIN') then email\n    when visibility = 'Public' then email\n    else '***CONDITIONAL MASK***'\n  end;\n  \nalter table customer \nmodify column c_email unset masking policy;\n\nalter table if exists customer modify column c_email \n    set masking policy email_visibility_policy using (c_email, c_email_visibility);",
   "execution_count": null
  },
  {
   "cell_type": "markdown",
   "id": "64b9eff2-50c2-4668-af33-9b3abdcb4890",
   "metadata": {
    "name": "cell72",
    "collapsed": false,
    "resultHeight": 46
   },
   "source": "### Scroll down and see that the EMAIL is masked when the C_EMAIL_VISIBILITY column is set to \"Private\""
  },
  {
   "cell_type": "code",
   "id": "00107541-2d04-4aca-8f80-d93518f8e7fd",
   "metadata": {
    "language": "sql",
    "name": "cell26",
    "collapsed": false,
    "resultHeight": 0
   },
   "outputs": [],
   "source": "use role FIN_ANALYST_RL;\nselect C_FNAME, C_LNAME, C_EMAIL, C_EMAIL_VISIBILITY from customer;",
   "execution_count": null
  },
  {
   "cell_type": "markdown",
   "id": "221fe2cc-b8b6-4eda-9451-7cb54dd965c3",
   "metadata": {
    "name": "cell27",
    "collapsed": false,
    "resultHeight": 68
   },
   "source": "### If we have MANY, MANY PII columns across MANY tables, thats alot of policy assignments to maintain.  We can make this easier by using OBJECT TAGS.  First, we will \"unset\" the masking policy we just applied to C_EMAIL"
  },
  {
   "cell_type": "code",
   "id": "dfbc383a-636c-46e3-9c9f-7af6b257414f",
   "metadata": {
    "language": "sql",
    "name": "cell28",
    "collapsed": false,
    "resultHeight": 112
   },
   "outputs": [],
   "source": "use role ACCOUNTADMIN;\n\nalter table if exists customer \nmodify column c_email unset masking policy ;",
   "execution_count": null
  },
  {
   "cell_type": "markdown",
   "id": "f473099f-cddc-4fc4-b163-129649c0a5b2",
   "metadata": {
    "name": "cell60",
    "collapsed": false,
    "resultHeight": 46
   },
   "source": "### Then, we create an object tag and associate it with the same masking policy we created earlier"
  },
  {
   "cell_type": "code",
   "id": "cd126de4-7d8c-411c-8a16-2268811fec08",
   "metadata": {
    "language": "sql",
    "name": "cell57",
    "collapsed": false,
    "resultHeight": 112
   },
   "outputs": [],
   "source": "create or replace tag PII propagate=on_dependency_and_lineage;\n\nalter tag pii set masking policy simple_mask_string;",
   "execution_count": null
  },
  {
   "cell_type": "markdown",
   "id": "efb87b9b-e2f4-42f9-a888-df1f1fa31279",
   "metadata": {
    "name": "cell61",
    "collapsed": false,
    "resultHeight": 46
   },
   "source": "### Next, we apply the tag to one or more columns"
  },
  {
   "cell_type": "code",
   "id": "3551c10a-d7f2-4228-bd8e-1cb308b957a1",
   "metadata": {
    "language": "sql",
    "name": "cell59",
    "collapsed": false,
    "resultHeight": 112
   },
   "outputs": [],
   "source": "alter table customer \nmodify \n    column c_email set tag PII = 'email address',\n    column c_phone set tag PII = 'phone';\n",
   "execution_count": null
  },
  {
   "cell_type": "markdown",
   "id": "8cfedd02-1165-4280-8d5a-b2c3ffedbcf5",
   "metadata": {
    "name": "cell63",
    "collapsed": false,
    "resultHeight": 46
   },
   "source": "### Here we see that the masking policy followed the object tag!"
  },
  {
   "cell_type": "code",
   "id": "ad46e294-4e0a-46e7-b26f-2452f0ef9592",
   "metadata": {
    "language": "sql",
    "name": "cell62",
    "resultHeight": 427,
    "collapsed": false
   },
   "outputs": [],
   "source": "use role fin_analyst_rl;\nselect c_custkey, c_email, c_phone\nfrom customer limit 10;",
   "execution_count": null
  },
  {
   "cell_type": "markdown",
   "id": "a3debc5e-d8d6-4565-b844-a955faf61719",
   "metadata": {
    "name": "cell29",
    "collapsed": false,
    "resultHeight": 46
   },
   "source": "### Now show how the tags can get automatically propagated. (This feature is in Public Preview as of 12/2/2024)"
  },
  {
   "cell_type": "markdown",
   "id": "70facff1-64e6-4d9b-8fa6-9ae473268dc5",
   "metadata": {
    "name": "cell73",
    "collapsed": false,
    "resultHeight": 46
   },
   "source": "### We create another table with data extracted from customer"
  },
  {
   "cell_type": "code",
   "id": "fa335119-78f7-4aaa-80f4-e662bf09aa49",
   "metadata": {
    "language": "sql",
    "name": "cell64",
    "resultHeight": 112,
    "collapsed": false
   },
   "outputs": [],
   "source": "use role ACCOUNTADMIN;\ncreate or replace table customer_extract_OH as\nselect * from customer\nwhere c_state = 'OH';\n\ngrant select on customer_extract_OH to role FIN_ANALYST_RL;",
   "execution_count": null
  },
  {
   "cell_type": "markdown",
   "id": "33e1d033-de09-45c2-a089-3e696d68cfe0",
   "metadata": {
    "name": "cell74",
    "collapsed": false
   },
   "source": ""
  },
  {
   "cell_type": "markdown",
   "id": "b7ab0016-fd52-4ce3-a7b1-e6fd17c4e462",
   "metadata": {
    "name": "cell75",
    "collapsed": false,
    "resultHeight": 46
   },
   "source": "### This shows how the tags, and the policies associated with the tag, were automatically propagated to a downstream table"
  },
  {
   "cell_type": "code",
   "id": "8e3a137d-f7b4-4d5c-8c0a-0897e0073a26",
   "metadata": {
    "language": "sql",
    "name": "cell65",
    "collapsed": false,
    "resultHeight": 427
   },
   "outputs": [],
   "source": "use role fin_analyst_rl;\nselect c_custkey, c_email, c_phone\nfrom customer_extract_OH limit 10;",
   "execution_count": null
  },
  {
   "cell_type": "markdown",
   "id": "71a0dae6-6c50-4fe1-a31f-97971c74c342",
   "metadata": {
    "name": "cell30",
    "collapsed": false,
    "resultHeight": 91
   },
   "source": "### What if we have privacy requirements to restrict access to specific rows or groups of rows?  We have ROW ACCESS POLICIES.  This has the same effect as the VIEW example we used earlier.  But the Row Access Policy makes it much easier to implement and manage. This policy will return only rows for Ohio. "
  },
  {
   "cell_type": "code",
   "id": "1c91f66d-a1f1-4be9-976a-c1e6a557d32f",
   "metadata": {
    "language": "sql",
    "name": "cell32",
    "resultHeight": 0,
    "collapsed": false
   },
   "outputs": [],
   "source": "use role ACCOUNTADMIN; \n\n-- Create a Row Access Policy \n-- This will only show rows for STATE='OH'.  ACCOUNTADMIN will see all rows\ncreate or replace ROW ACCESS POLICY Customer_OH_Policy AS \n (C_STATE VARCHAR) returns BOOLEAN -> 'ACCOUNTADMIN' = current_role() or C_STATE = 'OH';\n\nalter table customer ADD ROW ACCESS POLICY Customer_OH_Policy on (C_STATE); ",
   "execution_count": null
  },
  {
   "cell_type": "code",
   "id": "a5ed583b-000c-40a5-9884-ba5864da872e",
   "metadata": {
    "language": "sql",
    "name": "cell33",
    "resultHeight": 0,
    "collapsed": false
   },
   "outputs": [],
   "source": "use role FIN_ANALYST_RL;\nselect * from customer; ",
   "execution_count": null
  },
  {
   "cell_type": "code",
   "id": "f37f3a37-3591-4f12-913d-bb061aac0b21",
   "metadata": {
    "language": "sql",
    "name": "cell34",
    "resultHeight": 0,
    "collapsed": false
   },
   "outputs": [],
   "source": "-- Unset the Row Access Policy\nuse role ACCOUNTADMIN;\nalter table customer DROP ROW ACCESS POLICY Customer_OH_Policy;  ",
   "execution_count": null
  },
  {
   "cell_type": "markdown",
   "id": "848ae68a-10c2-4dcd-aa71-afe83ea7c358",
   "metadata": {
    "name": "cell36",
    "collapsed": false,
    "resultHeight": 46
   },
   "source": "### Here we can use a Projection Policy to control what columns can be included in the SELECT or *projection* of the query"
  },
  {
   "cell_type": "code",
   "id": "36ba33ce-1036-4860-8f0e-44edbfc75393",
   "metadata": {
    "language": "sql",
    "name": "cell35",
    "collapsed": false,
    "resultHeight": 0
   },
   "outputs": [],
   "source": "use role ACCOUNTADMIN; \n\ncreate or replace projection policy proj_policy\nas () returns projection_constraint ->\ncase\n  when CURRENT_ROLE() = 'ACCOUNTADMIN'\n    then projection_constraint(allow => true)\n  else projection_constraint(allow => false)\nend;\n\nALTER TABLE customer modify column c_email set projection policy proj_policy;\nALTER TABLE customer modify column c_phone set projection policy proj_policy;\nALTER TABLE customer modify column c_fname set projection policy proj_policy;\nALTER TABLE customer modify column c_lname set projection policy proj_policy;",
   "execution_count": null
  },
  {
   "cell_type": "markdown",
   "id": "48e01c7b-3645-4efa-88eb-51d9d7a3c40e",
   "metadata": {
    "name": "cell76",
    "collapsed": false,
    "resultHeight": 46
   },
   "source": "### This works normally as it is executed as role=ACCOUNTADMIN"
  },
  {
   "cell_type": "code",
   "id": "79309946-a156-4a49-8b33-e45e85ec4497",
   "metadata": {
    "language": "sql",
    "name": "cell38",
    "collapsed": false,
    "resultHeight": 0
   },
   "outputs": [],
   "source": "use role ACCOUNTADMIN;\nselect * from customer;",
   "execution_count": null
  },
  {
   "cell_type": "markdown",
   "id": "f897e0fd-36db-42b8-8b7f-be580d305170",
   "metadata": {
    "name": "cell77",
    "collapsed": false,
    "resultHeight": 46
   },
   "source": "### But this one fail because role is not ACCOUNTADMIN and we are trying to project columns disallowed by the projection policy "
  },
  {
   "cell_type": "code",
   "id": "7d050f0d-c82e-4841-8d04-7b57b31ab3ce",
   "metadata": {
    "language": "sql",
    "name": "cell37",
    "collapsed": false,
    "resultHeight": 0,
    "codeCollapsed": false
   },
   "outputs": [],
   "source": "use role FIN_ANALYST_RL;\nselect * from customer; -- This will fail",
   "execution_count": null
  },
  {
   "cell_type": "code",
   "id": "07ab01f1-97f6-4c16-be75-4215e1f5938a",
   "metadata": {
    "language": "sql",
    "name": "cell39",
    "collapsed": false,
    "resultHeight": 0
   },
   "outputs": [],
   "source": "select c_custkey, c_state, c_zip, c_age, c_gender \nfrom customer; -- This works!!!",
   "execution_count": null
  },
  {
   "cell_type": "markdown",
   "id": "8de12a0d-5941-4090-ad92-106bb30afa9b",
   "metadata": {
    "name": "cell67",
    "collapsed": false,
    "resultHeight": 46
   },
   "source": "### But I can do things like this... "
  },
  {
   "cell_type": "code",
   "id": "820bb168-2d9b-4d6a-b6ed-bde9b34d91e1",
   "metadata": {
    "language": "sql",
    "name": "cell42",
    "resultHeight": 0,
    "collapsed": false
   },
   "outputs": [],
   "source": "select c_custkey, c_state, c_zip, c_age, c_gender \nfrom customer\nwhere c_email = 'amaclead@gmail.com';",
   "execution_count": null
  },
  {
   "cell_type": "markdown",
   "id": "efac9427-24d7-4271-810e-6f5162f3f1db",
   "metadata": {
    "name": "cell40",
    "collapsed": false,
    "resultHeight": 68
   },
   "source": "### The Projection Policy alone may not be sufficient to withstand aggressive attacks. So we can layer Aggregation Policies on top of this to thwart this\n"
  },
  {
   "cell_type": "code",
   "id": "be203c86-685a-47e2-a704-28d9a38ddb08",
   "metadata": {
    "language": "sql",
    "name": "cell41",
    "collapsed": false,
    "resultHeight": 112
   },
   "outputs": [],
   "source": "use role ACCOUNTADMIN; \n\ncreate or replace aggregation policy cust_agg_policy\n  as () returns aggregation_constraint -> \n  case \n    when current_role() = 'ACCOUNTADMIN'\n      then no_aggregation_constraint()\n    else \n      aggregation_constraint(min_group_size => 5)\n  end;\n\nalter table customer \nset aggregation policy cust_agg_policy;",
   "execution_count": null
  },
  {
   "cell_type": "markdown",
   "id": "2f11b2d3-3f10-485d-a041-ccfb8c3c1020",
   "metadata": {
    "name": "cell78",
    "collapsed": false,
    "resultHeight": 46
   },
   "source": "### The previous attack now fails because I didn't include an aggregate in my query. "
  },
  {
   "cell_type": "code",
   "id": "5e34becd-1672-4e03-8348-c180ce0f320a",
   "metadata": {
    "language": "sql",
    "name": "cell68",
    "collapsed": false,
    "resultHeight": 87
   },
   "outputs": [],
   "source": "use role FIN_ANALYST_RL; \nselect c_custkey, c_state, c_zip, c_age, c_gender \nfrom customer\nwhere c_email = 'amaclead@gmail.com';",
   "execution_count": null
  },
  {
   "cell_type": "markdown",
   "id": "198560fc-faf0-4e72-ab05-7e84a966ed5b",
   "metadata": {
    "name": "cell79",
    "collapsed": false,
    "resultHeight": 46
   },
   "source": "### This works as ACCOUNTADMIN. Not that it returns groups that have only 1-5 rows. "
  },
  {
   "cell_type": "code",
   "id": "ac2cd089-b25d-4abc-9dd1-2ebed8f36e17",
   "metadata": {
    "language": "sql",
    "name": "cell46",
    "collapsed": false,
    "resultHeight": 0
   },
   "outputs": [],
   "source": "use role ACCOUNTADMIN;\nselect c_state, count(*), sum(c_acctbal) \nfrom customer group by 1 order by 2;",
   "execution_count": null
  },
  {
   "cell_type": "markdown",
   "id": "6eb072d6-e8fb-4423-a191-4d5f5ffd2ef9",
   "metadata": {
    "name": "cell80",
    "collapsed": false,
    "resultHeight": 46
   },
   "source": "### When not ACCOUNTADMIN, this query now succeeds but will not return groups with < 5 rows as per the Aggregation policy"
  },
  {
   "cell_type": "code",
   "id": "6f94e65f-8bdb-46f2-9525-761ceb4af011",
   "metadata": {
    "language": "sql",
    "name": "cell43",
    "collapsed": false,
    "resultHeight": 0
   },
   "outputs": [],
   "source": "use role FIN_ANALYST_RL;\nselect c_state, count(*), sum(c_acctbal) \nfrom customer group by 1 order by 2;",
   "execution_count": null
  },
  {
   "cell_type": "markdown",
   "id": "a677b113-3e4e-48ed-9869-45c07d011143",
   "metadata": {
    "name": "cell47",
    "collapsed": false,
    "resultHeight": 46
   },
   "source": "### Now check the consumer account to see that these policies are enforced there"
  },
  {
   "cell_type": "markdown",
   "id": "6d323c77-93a0-433d-9ab2-521ed3b56392",
   "metadata": {
    "name": "cell31",
    "collapsed": false,
    "resultHeight": 208
   },
   "source": "### For even more protection against persistent and repetitive attacks at sensitive data, we have Differential Privacy. DP injects noise into your aggregated results subject to a privacy budget\n### The goal is to maximize analytic value while eliminating the possibility of identifying or re-identifying sensitive data. \n### DP is mutually exclusive with Projection/Aggregation/DDM\n### Row Access Policies take precedence if used together with DP"
  },
  {
   "cell_type": "code",
   "id": "89bc41cb-046d-4a42-8bdb-0691ef322b14",
   "metadata": {
    "language": "sql",
    "name": "cell50",
    "resultHeight": 0,
    "collapsed": false
   },
   "outputs": [],
   "source": "-- Unset projection and aggregation policies \nuse role ACCOUNTADMIN;\n\nALTER TABLE customer unset aggregation policy ;\nALTER TABLE customer modify column c_email unset projection policy;\nALTER TABLE customer modify column c_phone unset projection policy;\nALTER TABLE customer modify column c_fname unset projection policy;\nALTER TABLE customer modify column c_lname unset projection policy;\n\nalter table customer modify column c_email unset masking policy;",
   "execution_count": null
  },
  {
   "cell_type": "markdown",
   "id": "489dfb99-1b34-4e10-a747-7e2eac7576e2",
   "metadata": {
    "name": "cell45",
    "collapsed": false,
    "resultHeight": 46
   },
   "source": "### Create our Differential Privacy Policy..."
  },
  {
   "cell_type": "code",
   "id": "2583d134-d273-4a95-9f7c-2611da228488",
   "metadata": {
    "language": "sql",
    "name": "cell48",
    "collapsed": false,
    "resultHeight": 0
   },
   "outputs": [],
   "source": "use role ACCOUNTADMIN;\n\ncreate or replace privacy policy cust_dp_policy as () returns privacy_budget ->\n  case\n    when current_role() = 'ACCOUNTADMIN' THEN no_privacy_policy()\n    else privacy_budget(budget_name => 'default')  \n  end;\n\nalter table customer add privacy policy cust_dp_policy ENTITY KEY (c_custkey);",
   "execution_count": null
  },
  {
   "cell_type": "markdown",
   "id": "b4cf15b1-58cf-4a37-b607-752be8510c36",
   "metadata": {
    "name": "cell51",
    "collapsed": false,
    "resultHeight": 46
   },
   "source": "### A non-ACCOUNTADMIN role will not be able to run a non-aggregated query against our protected table"
  },
  {
   "cell_type": "code",
   "id": "7f656c96-2ffb-44df-841d-a86f079935ab",
   "metadata": {
    "language": "sql",
    "name": "cell49",
    "resultHeight": 111,
    "collapsed": false
   },
   "outputs": [],
   "source": "use role FIN_ANALYST_RL;\nselect * from customer; ",
   "execution_count": null
  },
  {
   "cell_type": "markdown",
   "id": "280ae7a9-a86a-4726-9bfc-ff7c417f2cbc",
   "metadata": {
    "name": "cell81",
    "collapsed": false,
    "resultHeight": 92
   },
   "source": "### But we can run this... \n### the DP_INTERVAL functions provide visibility into the \"noise\" range that was injected into the aggregate results"
  },
  {
   "cell_type": "code",
   "id": "2c1468f7-6542-40fd-b6b2-7b7107715272",
   "metadata": {
    "language": "sql",
    "name": "cell52",
    "resultHeight": 0,
    "collapsed": false
   },
   "outputs": [],
   "source": "SELECT COUNT(DISTINCT c_custkey) AS c,\n       DP_INTERVAL_LOW(c) AS low,\n       DP_INTERVAL_HIGH(c) AS high,\nFROM customer;",
   "execution_count": null
  },
  {
   "cell_type": "code",
   "id": "554f8a8a-d675-4d61-98d2-843311889f7f",
   "metadata": {
    "language": "sql",
    "name": "cell53",
    "collapsed": false,
    "resultHeight": 0
   },
   "outputs": [],
   "source": "SELECT COUNT(DISTINCT c_custkey) AS c,\n       DP_INTERVAL_LOW(c) AS low,\n       DP_INTERVAL_HIGH(c) AS high,\nFROM customer\nWHERE c_gender='F'\n  AND c_age between 30 and 50;",
   "execution_count": null
  },
  {
   "cell_type": "markdown",
   "id": "6d89bbe2-063b-4e15-845d-6e52a5ec749b",
   "metadata": {
    "name": "cell58",
    "collapsed": false,
    "resultHeight": 46
   },
   "source": "### Check what this looks like on the consumer account"
  },
  {
   "cell_type": "markdown",
   "id": "155ee870-0eb0-4ae8-9279-c209500b475d",
   "metadata": {
    "name": "cell54",
    "collapsed": false,
    "resultHeight": 46
   },
   "source": "### Demo tear down"
  },
  {
   "cell_type": "code",
   "id": "0696f08a-6bff-4db4-83ca-4404a4b7c342",
   "metadata": {
    "language": "sql",
    "name": "cell56",
    "collapsed": false,
    "resultHeight": 112
   },
   "outputs": [],
   "source": "use role ACCOUNTADMIN;\nalter table customer drop privacy policy cust_dp_policy ;",
   "execution_count": null
  },
  {
   "cell_type": "code",
   "id": "d46ad6fc-a0b1-49bf-84c2-66a7d69a5397",
   "metadata": {
    "language": "sql",
    "name": "cell55",
    "resultHeight": 0
   },
   "outputs": [],
   "source": "-- ALWAYS BACK UP THE NOTEBOOK BEFORE RUNNING THIS. JUST IN CASE\n\nXdrop share customer_share; \nXdrop database PRIVACYEVOLUTION;",
   "execution_count": null
  }
 ]
}